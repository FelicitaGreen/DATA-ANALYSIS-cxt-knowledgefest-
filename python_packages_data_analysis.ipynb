{
  "nbformat": 4,
  "nbformat_minor": 0,
  "metadata": {
    "colab": {
      "name": "python_packages_data_analysis.ipynb",
      "provenance": [],
      "collapsed_sections": [],
      "authorship_tag": "ABX9TyOOhbgfbk8FDW6vtWgpbJNV",
      "include_colab_link": true
    },
    "kernelspec": {
      "name": "python3",
      "display_name": "Python 3"
    }
  },
  "cells": [
    {
      "cell_type": "markdown",
      "metadata": {
        "id": "view-in-github",
        "colab_type": "text"
      },
      "source": [
        "<a href=\"https://colab.research.google.com/github/stephenfrein/py_packages_data_analysis/blob/master/python_packages_data_analysis.ipynb\" target=\"_parent\"><img src=\"https://colab.research.google.com/assets/colab-badge.svg\" alt=\"Open In Colab\"/></a>"
      ]
    },
    {
      "cell_type": "markdown",
      "metadata": {
        "id": "Qr8WXOAZ6Mdu",
        "colab_type": "text"
      },
      "source": [
        "# Useful Python Packages for Data Analysis\n",
        "\n",
        "This is a Jupyter notebook running in Google's Colab environment that we will use to learn about some Python packages that are useful for data analysis.\n",
        "\n",
        "You can write and execute your Python code right in the browser here. No additional setup is required.\n",
        "\n",
        "The main packages we will cover today are *pandas* (used for manipulating tabular data) and *matplotlib* (used to create graphs)."
      ]
    },
    {
      "cell_type": "markdown",
      "metadata": {
        "id": "l3TeC_HQ8sJ5",
        "colab_type": "text"
      },
      "source": [
        "# Pandas\n",
        "\n",
        "The pandas library is essential for data analysis in Python. It allows you to maniulate tabular data structures, such as you would find in a relational database or spreadsheet.\n",
        "\n",
        "Some things we'll do with pandas:\n",
        "*   Load data\n",
        "*   Describe that data\n",
        "*   Reshape the data\n",
        "\n",
        "\n"
      ]
    },
    {
      "cell_type": "markdown",
      "metadata": {
        "id": "_Z5yTUpaGjSm",
        "colab_type": "text"
      },
      "source": [
        "# Load Data\n",
        "\n",
        "Let's get some data first. We can load data from a variety of formats, including:\n",
        "*   text files (CSV, fixed-width)\n",
        "*   JSON\n",
        "*   HTML\n",
        "*   MS Excel\n",
        "*   SQL\n",
        "... and lots of others as well.\n",
        "\n",
        "We can also pull data from a filesystem (just give the path) or a URL.\n",
        "\n",
        "To get things started, we'll load some CSV data about the Titanic from a URL."
      ]
    },
    {
      "cell_type": "code",
      "metadata": {
        "id": "X09stpEIFWnw",
        "colab_type": "code",
        "colab": {}
      },
      "source": [
        "# it's conventional to alias pandas as pd once imported\n",
        "import pandas as pd\n",
        "url=\"https://web.stanford.edu/class/archive/cs/cs109/cs109.1166/stuff/titanic.csv\"\n",
        "# pandas will read this data into a DataFrame, the typical pandas data structure\n",
        "# df is a common abbreviation used in DataFrame variables \n",
        "titanic_df=pd.read_csv(url)"
      ],
      "execution_count": 0,
      "outputs": []
    },
    {
      "cell_type": "markdown",
      "metadata": {
        "id": "nc0K5QbyKH35",
        "colab_type": "text"
      },
      "source": [
        "# Explore Our Data\n",
        "\n",
        "Now that we've loaded our data, let's take a look at it. "
      ]
    },
    {
      "cell_type": "code",
      "metadata": {
        "id": "8WXI35XZLNrZ",
        "colab_type": "code",
        "colab": {}
      },
      "source": [
        "# let's see the first rows\n",
        "titanic_df.head(n=10)\n",
        "# can also do tail()"
      ],
      "execution_count": 0,
      "outputs": []
    },
    {
      "cell_type": "code",
      "metadata": {
        "id": "_BX4U9TXKeiM",
        "colab_type": "code",
        "colab": {}
      },
      "source": [
        "# let's see some stats about the overall data set\n",
        "titanic_df.describe()"
      ],
      "execution_count": 0,
      "outputs": []
    },
    {
      "cell_type": "code",
      "metadata": {
        "id": "Tso18vC8SBsx",
        "colab_type": "code",
        "colab": {}
      },
      "source": [
        "# wait a minute - that only gave us the numerics\n",
        "titanic_df.describe(include=\"all\")"
      ],
      "execution_count": 0,
      "outputs": []
    },
    {
      "cell_type": "markdown",
      "metadata": {
        "id": "jTvFELzSMHkd",
        "colab_type": "text"
      },
      "source": [
        "# Exercise\n",
        "\n",
        "Now you try. There is a data set of blah at URL. Go get it, and find out which bleep has the highest average blonk."
      ]
    },
    {
      "cell_type": "code",
      "metadata": {
        "id": "2MDG0jQhMbPz",
        "colab_type": "code",
        "colab": {}
      },
      "source": [
        "# write your code in here below\n",
        "url=\"https://drive.google.com/uc?export=download&id=1mKW-hqj7NVd-ong7sae-AMOCW75oTHZD\"\n",
        "covid_df=pd.read_csv(url)\n",
        "covid_df.head()\n",
        "covid_df.describe(include=\"all\")"
      ],
      "execution_count": 0,
      "outputs": []
    }
  ]
}