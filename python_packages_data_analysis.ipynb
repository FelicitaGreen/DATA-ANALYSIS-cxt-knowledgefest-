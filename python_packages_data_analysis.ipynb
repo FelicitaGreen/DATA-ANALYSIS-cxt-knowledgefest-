{
  "nbformat": 4,
  "nbformat_minor": 0,
  "metadata": {
    "colab": {
      "name": "python_packages_data_analysis.ipynb",
      "provenance": [],
      "collapsed_sections": [],
      "authorship_tag": "ABX9TyMyx+RA+tiINjJ65u2ROsr3",
      "include_colab_link": true
    },
    "kernelspec": {
      "name": "python3",
      "display_name": "Python 3"
    }
  },
  "cells": [
    {
      "cell_type": "markdown",
      "metadata": {
        "id": "view-in-github",
        "colab_type": "text"
      },
      "source": [
        "<a href=\"https://colab.research.google.com/github/stephenfrein/py_packages_data_analysis/blob/master/python_packages_data_analysis.ipynb\" target=\"_parent\"><img src=\"https://colab.research.google.com/assets/colab-badge.svg\" alt=\"Open In Colab\"/></a>"
      ]
    },
    {
      "cell_type": "markdown",
      "metadata": {
        "id": "Qr8WXOAZ6Mdu",
        "colab_type": "text"
      },
      "source": [
        "# Useful Python Packages for Data Analysis\n",
        "\n",
        "This is a Jupyter notebook running in Google's Colab environment that we will use to learn about some Python packages that are useful for data analysis.\n",
        "\n",
        "You can write and execute your Python code right in the browser here. No additional setup is required.\n",
        "\n",
        "The main packages we will cover today are *pandas* (used for manipulating tabular data) and *matplotlib* (used to create graphs)."
      ]
    },
    {
      "cell_type": "markdown",
      "metadata": {
        "id": "l3TeC_HQ8sJ5",
        "colab_type": "text"
      },
      "source": [
        "# Pandas\n",
        "\n",
        "The pandas library is essential for data analysis in Python. It allows you to maniulate tabular data structures, such as you would find in a relational database or spreadsheet.\n",
        "\n",
        "Some things we'll do with pandas:\n",
        "*   Load data\n",
        "*   Describe that data\n",
        "*   Reshape the data\n",
        "\n",
        "\n"
      ]
    }
  ]
}